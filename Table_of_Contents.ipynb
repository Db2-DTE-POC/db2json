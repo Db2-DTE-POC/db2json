{
 "cells": [
  {
   "cell_type": "markdown",
   "metadata": {},
   "source": [
    "![](./media/dte-header.jpg)\n",
    "<a id=\"top\">"
   ]
  },
  {
   "cell_type": "markdown",
   "metadata": {},
   "source": [
    "# Db2 ISO JSON Functions\n",
    "Welcome to this Db2 lab that highlights the JSON functions that are found in Db2 11.5. This system demonstrates the new JSON features through the use of Jupyter notebooks. If you are not familiar with the use of Jupyter notebooks or Python, the following notebook will guide you through their usage.\n",
    "\n",
    "* [An Introduction to Jupyter Notebooks](./An_Introduction_to_Jupyter_Notebooks.ipynb)\n",
    "\n",
    "These notebooks on Db2 JSON are very detailed and are intended to be run in sequence. This first notebook is an overview of the JSON functions.\n",
    "\n",
    "* [Db2 ISO SQL JSON Function Overview](./Db2_11.5_ISO_JSON_Functions.ipynb) \n",
    "* [Part 1 - An Introduction to JSON](./Db2_11.5_JSON_01_An_Introduction_to_JSON.ipynb)\n",
    "* [Part 2 - JSON Path Expressions](./Db2_11.5_JSON_02_JSON_Path_Expressions.ipynb)\n",
    "* [Part 3 - Db2 ISO JSON Functions](./Db2_11.5_JSON_03_Db2_ISO_JSON_Functions.ipynb)\n",
    "* [Part 4 - JSON Storage](./Db2_11.5_JSON_04_JSON_Storage.ipynb)\n",
    "* [Part 5 - Inserting JSON Data](./Db2_11.5_JSON_05_Inserting_JSON_Data.ipynb)\n",
    "* [Part 6 - JSON_EXISTS](./Db2_11.5_JSON_06_JSON_EXISTS.ipynb)\n",
    "* [Part 7 - JSON_VALUE and JSON_QUERY](./Db2_11.5_JSON_07_JSON_VALUE_and_JSON_QUERY.ipynb)\n",
    "* [Part 8 - JSON_TABLE](./Db2_11.5_JSON_08_JSON_TABLE.ipynb)\n",
    "* [Part 9 - Publishing JSON Data](./Db2_11.5_JSON_09_Publishing_JSON_Data.ipynb)\n",
    "* [Part 10 - Performance Optimization](./Db2_11.5_JSON_10_Performance_Optimization.ipynb)\n",
    "* [Part 11 - Updating Documents](./Db2_11.5_JSON_11_Updating_Documents.ipynb)\n",
    "* [Part 12 - Unnesting Arrays](./Db2_11.5_JSON_12_Unnesting_Arrays.ipynb)\n",
    "* [Db2 Version 11 JSON Highlights **eBook**](./media/Db2V11-JSON-ebook.pdf)\n",
    "\n",
    "### Db2 Magic Commands\n",
    "\n",
    "Db2 Magic commands are used in all of the notebooks used in the previous section. The following notebook provides a tutorial on basics of using the Db2 magic commands.\n",
    "\n",
    "* [An Introduction to Db2 Magic Commands](./Db2_Jupyter_Extensions_Tutorial.ipynb)\n",
    "\n",
    "#### Questions and Comments: George Baklarz [baklarz@ca.ibm.com]"
   ]
  }
 ],
 "metadata": {
  "kernelspec": {
   "display_name": "Python 3",
   "language": "python",
   "name": "python3"
  },
  "language_info": {
   "codemirror_mode": {
    "name": "ipython",
    "version": 3
   },
   "file_extension": ".py",
   "mimetype": "text/x-python",
   "name": "python",
   "nbconvert_exporter": "python",
   "pygments_lexer": "ipython3",
   "version": "3.7.4"
  }
 },
 "nbformat": 4,
 "nbformat_minor": 2
}
